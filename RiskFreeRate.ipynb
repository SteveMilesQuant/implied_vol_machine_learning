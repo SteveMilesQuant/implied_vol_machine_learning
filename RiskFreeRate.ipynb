{
 "cells": [
  {
   "cell_type": "markdown",
   "id": "80569e18-79e6-4983-a67c-6ad7520c50fb",
   "metadata": {},
   "source": [
    "# Risk-free rates\n",
    "\n",
    "For this exercise, I was not given the risk-free rate curves or yield curves, but they are required for some models, such as Heston. Here, I attempt to solve for the risk-free rate and yield via MSE minimization using the data I was given. In a real-life case, this would not be necessary - risk-free rate and yields can be found in other databases."
   ]
  },
  {
   "cell_type": "code",
   "execution_count": 10,
   "id": "d6a781f8-8c35-4645-bc5a-d19af2ec22ec",
   "metadata": {},
   "outputs": [],
   "source": [
    "# Common imports\n",
    "import time, os\n",
    "import pandas as pd\n",
    "import numpy as np\n",
    "root_dir = '/mnt/c/Users/Steve/implied_vol_machine_learning'"
   ]
  },
  {
   "cell_type": "markdown",
   "id": "28cbf358-f228-4099-b5d5-2d0e4ee17dbb",
   "metadata": {},
   "source": [
    "## Define pricing function"
   ]
  },
  {
   "cell_type": "code",
   "execution_count": 16,
   "id": "9eb475dd-7e33-4013-88ea-e34c4174f829",
   "metadata": {},
   "outputs": [
    {
     "name": "stdout",
     "output_type": "stream",
     "text": [
      "9.628983522021265\n"
     ]
    }
   ],
   "source": [
    "import numpy as np\n",
    "from scipy.stats import norm\n",
    "\n",
    "def bs_call(S, X, T, r, y, sigma):\n",
    "    b = r - y\n",
    "    sig_sqrt_t = sigma * np.sqrt(T)\n",
    "    d1 = (np.log(S/X) + (b+sigma*sigma/2)*T)/sig_sqrt_t\n",
    "    d2 = d1 - sig_sqrt_t\n",
    "    opt_val = S * np.exp(-y*T) * norm.cdf(d1) - X * np.exp(-r*T) * norm.cdf(d2)\n",
    "    return opt_val\n",
    "\n",
    "print(bs_call(100, 95, 0.5, 0.1, 0.05, 0.2))\n",
    "\n",
    "def bscall_mse(model_params, spot_prices, strikes, T, implied_vols, opt_price):\n",
    "    r, y = model_params\n",
    "    val = np.array([bs_call(S, X, T, r, y, sigma) for S, X, sigma in zip(spot_prices, strikes, implied_vols)]) - opt_price\n",
    "    return np.sqrt((val * val).sum())\n",
    "    "
   ]
  },
  {
   "cell_type": "markdown",
   "id": "ab2e9225-359f-4f57-8b15-3ff9fd676e9c",
   "metadata": {},
   "source": [
    "## Import data"
   ]
  },
  {
   "cell_type": "code",
   "execution_count": 59,
   "id": "c0bb3076-ce06-4d3e-a3ed-aa4a024fcb37",
   "metadata": {},
   "outputs": [
    {
     "name": "stdout",
     "output_type": "stream",
     "text": [
      "UnderlyingSymbol                   A\n",
      "UnderlyingPrice               133.67\n",
      "Exchange                           *\n",
      "OptionSymbol        A220916C00060000\n",
      "Blank                            NaN\n",
      "Type                            call\n",
      "Expiration                09/16/2022\n",
      " DataDate           08/24/2022 16:00\n",
      "Strike                          60.0\n",
      "Last                             0.0\n",
      "Bid                             72.5\n",
      "Ask                             75.1\n",
      "Volume                             0\n",
      "OpenInterest                       0\n",
      "IV                            0.3615\n",
      "Delta                         0.9997\n",
      "Gamma                            0.0\n",
      "Theta                        -0.8933\n",
      "Vega                             0.0\n",
      "Alias               A220916C00060000\n",
      "maturity                    0.060274\n",
      "moneyness                   0.448867\n",
      "ticker                             A\n",
      "Mid                             73.8\n",
      "Name: 0, dtype: object\n"
     ]
    }
   ],
   "source": [
    "import os\n",
    "import pandas as pd\n",
    "import datetime as dt\n",
    "\n",
    "raw_data = pd.read_csv(os.path.join(root_dir, 'options_20220824.csv'))\n",
    "call_data = raw_data.loc[(raw_data[\"Type\"] == \"call\") & (raw_data[\"Ask\"] < 99000.0)].copy()\n",
    "call_data.loc[:, \"maturity\"] = (pd.to_datetime(call_data[\"Expiration\"]) - pd.to_datetime(call_data[\" DataDate\"])).dt.days / 365\n",
    "call_data.loc[:, \"moneyness\"] = call_data[\"Strike\"] / call_data[\"UnderlyingPrice\"]\n",
    "call_data.loc[:, \"ticker\"] = call_data[\"UnderlyingSymbol\"]\n",
    "call_data.loc[:, \"Mid\"] = (call_data[\"Bid\"]+call_data[\"Ask\"])/2\n",
    "\n",
    "print(call_data.iloc[0])"
   ]
  },
  {
   "cell_type": "code",
   "execution_count": 62,
   "id": "8672c30f-a3d6-428d-be44-2a87852de9e4",
   "metadata": {},
   "outputs": [],
   "source": [
    "focus_data = call_data.loc[(call_data[\"maturity\"] > 0.0) & (call_data[\"moneyness\"] <= 2.5)].copy()"
   ]
  },
  {
   "cell_type": "markdown",
   "id": "5f27a423-896c-439b-86ad-f6e411fc82e4",
   "metadata": {},
   "source": [
    "## Solve for the risk-free rate and yield"
   ]
  },
  {
   "cell_type": "code",
   "execution_count": 65,
   "id": "c2d4de76-4dd5-41fc-805b-a9556268953a",
   "metadata": {},
   "outputs": [
    {
     "name": "stderr",
     "output_type": "stream",
     "text": [
      "/tmp/ipykernel_521/2239509712.py:7: RuntimeWarning: divide by zero encountered in double_scalars\n",
      "  d1 = (np.log(S/X) + (b+sigma*sigma/2)*T)/sig_sqrt_t\n"
     ]
    },
    {
     "name": "stdout",
     "output_type": "stream",
     "text": [
      "Time to solve: 3851.913613796234s\n",
      "Sample values:  [(('A', '01/19/2024'), array([ 0.02022078, -0.00022529])), (('A', '01/20/2023'), array([ 0.00470128, -0.01294581])), (('A', '02/17/2023'), array([ 0.02040406, -0.0004123 ]))]\n",
      "Problem cases:  []\n"
     ]
    }
   ],
   "source": [
    "import time\n",
    "from scipy.optimize import minimize\n",
    "\n",
    "r = 0.02; y = 0.0\n",
    "start_values = [r, y]\n",
    "bounds = [(-1.0, 1.0), (-1.0, 1.0)]\n",
    "# For the first case, SLSQP ended up fastest and just about as accurate\n",
    "# Hopefully, that is true for the others\n",
    "# try_methods = ['Nelder-Mead', 'Powell', 'CG', 'BFGS', 'L-BFGS-B', 'TNC', 'COBYLA', 'SLSQP', 'trust-constr'] \n",
    "\n",
    "costofcarry_by_tickermaturity = {}\n",
    "errors = []\n",
    "start = time.time()\n",
    "for key, data in focus_data.groupby(['ticker', 'Expiration']):\n",
    "    res = minimize(bscall_mse, start_values, bounds=bounds, args=(data['UnderlyingPrice'], data['Strike'], data['maturity'].iloc[0], data['IV'], data['Mid']), tol=1e-3, method=\"SLSQP\")\n",
    "    if res.success:\n",
    "        riskfreerate, yield = res.x\n",
    "        costofcarry_by_tickermaturity[key] = (riskfreerate, yield, data.shape[0])\n",
    "    else:\n",
    "        errors.append(key)\n",
    "end = time.time()\n",
    "\n",
    "print(f'Time to solve: {end-start}s')\n",
    "    \n",
    "print('Sample values: ', list(costofcarry_by_tickermaturity.items())[0:3])\n",
    "print('Problem cases: ', errors)"
   ]
  },
  {
   "cell_type": "code",
   "execution_count": 70,
   "id": "e04d120e-d3f4-4fa0-aa81-1b5da66f198f",
   "metadata": {},
   "outputs": [
    {
     "name": "stdout",
     "output_type": "stream",
     "text": [
      "(('ZYXI', '11/18/2022'), array([0.72339373, 0.54527819]))\n"
     ]
    }
   ],
   "source": [
    "# Sanity check: see that we reached the end\n",
    "print(list(costofcarry_by_tickermaturity.items())[len(costofcarry_by_tickermaturity)-1])"
   ]
  },
  {
   "cell_type": "code",
   "execution_count": 85,
   "id": "f90a6194-3dde-4720-a7f6-4229306d5628",
   "metadata": {},
   "outputs": [
    {
     "name": "stdout",
     "output_type": "stream",
     "text": [
      "  ticker  Expiration  RiskFreeRate  YieldRate\n",
      "0      A  01/19/2024      0.020221  -0.000225\n",
      "1      A  01/20/2023      0.004701  -0.012946\n"
     ]
    }
   ],
   "source": [
    "# Should have started with this format, but oh well\n",
    "reformatted = []\n",
    "for (ticker, expiration), (r, y) in costofcarry_by_tickermaturity.items():\n",
    "    reformatted.append([ticker, expiration, r, y])\n",
    "    \n",
    "r_and_y_df = pd.DataFrame(reformatted).rename(columns={0: 'ticker', 1: 'Expiration', 2: 'RiskFreeRate', 3: 'YieldRate'})\n",
    "print(r_and_y_df.iloc[0:2])"
   ]
  },
  {
   "cell_type": "code",
   "execution_count": 88,
   "id": "9aa9d2ec-3a21-4bcd-a523-84bfd6b40d70",
   "metadata": {},
   "outputs": [
    {
     "name": "stdout",
     "output_type": "stream",
     "text": [
      "01/18/2023 0.03306957186719332 0.007819514557066354\n",
      "01/19/2024 0.04772671384147566 0.2126472706014485\n",
      "01/20/2023 0.01679564627060305 0.1954735581215464\n",
      "01/31/2023 0.03181704751485948 0.008077687471028576\n",
      "02/15/2023 0.03183828492081532 0.0055264079377277025\n",
      "02/17/2023 0.0158021274658522 0.19984662976106415\n",
      "03/15/2024 -0.008682736953476548 0.06451439970107108\n",
      "03/17/2023 0.027967037037580567 0.16740062092735\n",
      "03/22/2023 0.02746351503402972 nan\n",
      "03/31/2023 0.02873657392915677 0.09975969175153923\n",
      "04/19/2023 0.02790984329227206 nan\n",
      "04/21/2023 0.048845855201027515 0.18660746054387928\n",
      "05/19/2023 0.022892180457593985 0.02513204472880916\n",
      "06/16/2023 0.024430314225071418 0.11942102011952027\n",
      "06/21/2024 0.020183917835200172 0.1512824216749102\n",
      "06/30/2023 0.01137076695766223 0.06893142122872249\n",
      "07/21/2023 0.018899970578790018 0.014645842866933196\n",
      "08/18/2023 0.03500668103042258 0.06240762365314682\n",
      "08/26/2022 0.2729718887839613 0.43404052978989544\n",
      "08/29/2022 0.1378812804773952 0.4017234132917661\n",
      "08/30/2022 0.07742971647189126 0.08248151883343992\n",
      "08/31/2022 0.05687811694025342 0.13514002779277165\n",
      "09/01/2022 0.07533265444397755 0.053733164849009474\n",
      "09/02/2022 -0.004581753986532786 0.3810137186628165\n",
      "09/06/2022 0.08584384240514052 0.07967418506882407\n",
      "09/07/2022 0.0685618541824317 0.060684542810451804\n",
      "09/08/2022 0.05583258511825118 0.006839625335821307\n",
      "09/09/2022 -0.007964240680108734 0.32459117260296183\n",
      "09/12/2022 0.045278081007373065 0.013047082517069535\n",
      "09/13/2022 0.042022088730040756 nan\n",
      "09/14/2022 0.03434327890283727 0.018673425447565374\n",
      "09/15/2022 0.04214765682406493 nan\n",
      "09/15/2023 -0.016300715336249317 0.2000082096227208\n",
      "09/16/2022 -0.12657529980014118 0.3970087061672787\n",
      "09/19/2022 0.04032424537095556 0.016917455050173252\n",
      "09/20/2022 0.020019505504560987 nan\n",
      "09/21/2022 0.03686801936097375 0.013100848359424756\n",
      "09/22/2022 0.04267584435719357 nan\n",
      "09/23/2022 -0.0037675348501806376 0.2567810717825296\n",
      "09/26/2022 0.03623784918211467 0.008477321493644996\n",
      "09/27/2022 0.04158855108156537 nan\n",
      "09/28/2022 0.039929243277534804 0.01934152728189071\n",
      "09/29/2022 0.05988706232548144 nan\n",
      "09/30/2022 0.027711195117503896 0.2912174103573031\n",
      "10/03/2022 0.026994538307021518 nan\n",
      "10/05/2022 0.030771916582926502 nan\n",
      "10/07/2022 0.030507999059279024 0.024817188342206108\n",
      "10/14/2022 0.03944740262809875 nan\n",
      "10/19/2022 0.03273473284190295 0.0016860842107498247\n",
      "10/20/2023 0.027830272844119097 0.027784815687664347\n",
      "10/21/2022 -0.030769402853114983 0.31733939714550746\n",
      "10/31/2022 0.042002228166785616 0.017486105341573365\n",
      "11/16/2022 0.03528586578941134 0.007807086144684862\n",
      "11/17/2023 0.02672185734311292 0.02300174233611395\n",
      "11/18/2022 -0.013686187334518624 0.2651162250404714\n",
      "11/30/2022 0.035159923902676395 0.019147730200761305\n",
      "12/15/2023 0.02168333772630798 0.14208281007099083\n",
      "12/16/2022 0.009592752918874355 0.21331493732638257\n",
      "12/17/2027 0.02462931770986325 nan\n",
      "12/18/2026 0.03654939908215231 nan\n",
      "12/19/2025 0.037735740090157024 nan\n",
      "12/20/2024 -0.0444986990085712 0.24894040895393676\n",
      "12/21/2022 0.03138125051520162 0.0042005092295565654\n",
      "12/30/2022 0.04142435730841034 0.11534939599357716\n"
     ]
    }
   ],
   "source": [
    "# This method of getting the risk-free rate can have surprisingly large variance\n",
    "# For now, treat each ticker as having its own risk-free rate\n",
    "for expiration, data in r_and_y_df.groupby('Expiration'):\n",
    "    print(expiration, data['RiskFreeRate'].mean(), data['RiskFreeRate'].std())"
   ]
  },
  {
   "cell_type": "code",
   "execution_count": 91,
   "id": "77d96529-00cf-4ce5-b06e-6edbad39d34f",
   "metadata": {},
   "outputs": [
    {
     "name": "stdout",
     "output_type": "stream",
     "text": [
      "Done\n"
     ]
    }
   ],
   "source": [
    "# Save for use in other notebooks\n",
    "r_and_y_df.to_csv(os.path.join(root_dir, 'riskfreerate_and_yield_by_ticker_and_maturity.csv'))\n",
    "\n",
    "print('Done')"
   ]
  },
  {
   "cell_type": "code",
   "execution_count": null,
   "id": "4b04759e-a703-4b0a-b845-1453918c7cb0",
   "metadata": {},
   "outputs": [],
   "source": []
  }
 ],
 "metadata": {
  "kernelspec": {
   "display_name": "Python 3 (ipykernel)",
   "language": "python",
   "name": "python3"
  },
  "language_info": {
   "codemirror_mode": {
    "name": "ipython",
    "version": 3
   },
   "file_extension": ".py",
   "mimetype": "text/x-python",
   "name": "python",
   "nbconvert_exporter": "python",
   "pygments_lexer": "ipython3",
   "version": "3.8.10"
  }
 },
 "nbformat": 4,
 "nbformat_minor": 5
}
