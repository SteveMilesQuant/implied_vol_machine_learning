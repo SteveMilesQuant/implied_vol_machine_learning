{
 "cells": [
  {
   "cell_type": "markdown",
   "id": "80569e18-79e6-4983-a67c-6ad7520c50fb",
   "metadata": {},
   "source": [
    "# Risk-free rates\n",
    "\n",
    "For this exercise, I was not given the risk-free rate curves or yield curves, but they are required for some models, such as Heston. Here, I attempt to solve for the risk-free rate and yield via MSE minimization using the data I was given. In a real-life case, this would not be necessary - risk-free rate and yields can be found in other databases."
   ]
  },
  {
   "cell_type": "code",
   "execution_count": 13,
   "id": "d6a781f8-8c35-4645-bc5a-d19af2ec22ec",
   "metadata": {},
   "outputs": [],
   "source": [
    "# Common imports\n",
    "import time, os, math\n",
    "import pandas as pd\n",
    "import numpy as np\n",
    "root_dir = '/mnt/c/Users/Steve/implied_vol_machine_learning'"
   ]
  },
  {
   "cell_type": "markdown",
   "id": "ab2e9225-359f-4f57-8b15-3ff9fd676e9c",
   "metadata": {},
   "source": [
    "## Import data"
   ]
  },
  {
   "cell_type": "code",
   "execution_count": 2,
   "id": "c0bb3076-ce06-4d3e-a3ed-aa4a024fcb37",
   "metadata": {},
   "outputs": [
    {
     "name": "stdout",
     "output_type": "stream",
     "text": [
      "UnderlyingSymbol                   A\n",
      "UnderlyingPrice               133.67\n",
      "Exchange                           *\n",
      "OptionSymbol        A220916C00060000\n",
      "Blank                            NaN\n",
      "Type                            call\n",
      "Expiration                09/16/2022\n",
      " DataDate           08/24/2022 16:00\n",
      "Strike                          60.0\n",
      "Last                             0.0\n",
      "Bid                             72.5\n",
      "Ask                             75.1\n",
      "Volume                             0\n",
      "OpenInterest                       0\n",
      "IV                            0.3615\n",
      "Delta                         0.9997\n",
      "Gamma                            0.0\n",
      "Theta                        -0.8933\n",
      "Vega                             0.0\n",
      "Alias               A220916C00060000\n",
      "maturity                    0.060274\n",
      "moneyness                   0.448867\n",
      "ticker                             A\n",
      "Mid                             73.8\n",
      "Name: 0, dtype: object\n"
     ]
    }
   ],
   "source": [
    "import os\n",
    "import pandas as pd\n",
    "import datetime as dt\n",
    "\n",
    "raw_data = pd.read_csv(os.path.join(root_dir, 'options_20220824.csv'))\n",
    "call_data = raw_data.loc[(raw_data[\"Type\"] == \"call\") & (raw_data[\"Ask\"] < 99000.0)].copy()\n",
    "call_data.loc[:, \"maturity\"] = (pd.to_datetime(call_data[\"Expiration\"]) - pd.to_datetime(call_data[\" DataDate\"])).dt.days / 365\n",
    "call_data.loc[:, \"moneyness\"] = call_data[\"Strike\"] / call_data[\"UnderlyingPrice\"]\n",
    "call_data.loc[:, \"ticker\"] = call_data[\"UnderlyingSymbol\"]\n",
    "call_data.loc[:, \"Mid\"] = (call_data[\"Bid\"]+call_data[\"Ask\"])/2\n",
    "\n",
    "print(call_data.iloc[0])"
   ]
  },
  {
   "cell_type": "code",
   "execution_count": 3,
   "id": "8672c30f-a3d6-428d-be44-2a87852de9e4",
   "metadata": {},
   "outputs": [],
   "source": [
    "focus_data = call_data.loc[(call_data[\"maturity\"] > 0.0) & (call_data[\"moneyness\"] <= 2.5) & (call_data[\"IV\"] > 0.0) & (call_data[\"Mid\"] > 0.0)].copy()"
   ]
  },
  {
   "cell_type": "markdown",
   "id": "28cbf358-f228-4099-b5d5-2d0e4ee17dbb",
   "metadata": {},
   "source": [
    "## Define pricing function"
   ]
  },
  {
   "cell_type": "code",
   "execution_count": 41,
   "id": "9eb475dd-7e33-4013-88ea-e34c4174f829",
   "metadata": {},
   "outputs": [
    {
     "name": "stdout",
     "output_type": "stream",
     "text": [
      "9.628983522021265\n"
     ]
    }
   ],
   "source": [
    "import numpy as np\n",
    "from scipy.stats import norm\n",
    "from scipy.optimize import minimize\n",
    "\n",
    "def bs_call(S, X, T, r, y, sigma):\n",
    "    b = r - y\n",
    "    sig_sqrt_t = sigma * np.sqrt(T)\n",
    "    d1 = (np.log(S/X) + (b+sigma*sigma/2)*T)/sig_sqrt_t\n",
    "    d2 = d1 - sig_sqrt_t\n",
    "    opt_val = S * np.exp(-y*T) * norm.cdf(d1) - X * np.exp(-r*T) * norm.cdf(d2)\n",
    "    return opt_val\n",
    "\n",
    "print(bs_call(100, 95, 0.5, 0.1, 0.05, 0.2))\n",
    "\n",
    "def bscall_mse(model_params, spot_prices, strikes, T, implied_vols, opt_price):\n",
    "    r, y = model_params\n",
    "    val = np.array([bs_call(S, X, T, r, y, sigma) for S, X, sigma in zip(spot_prices, strikes, implied_vols)]) - opt_price\n",
    "    return np.sqrt((val * val).sum())\n",
    "\n",
    "def batch_solve_call(start_values, bounds, spot_prices, strikes, maturities, implied_vols, opt_prices):\n",
    "    allres = []\n",
    "    for idx, T in enumerate(maturities):\n",
    "        start = time.time()\n",
    "        res = minimize(bscall_mse, start_values, bounds=bounds, args=(spot_prices[idx], strikes[idx], T, implied_vols[idx], opt_prices[idx]), tol=1e-3, method=\"SLSQP\")\n",
    "        end = time.time()\n",
    "        allres.append((end-start, res))\n",
    "    return allres"
   ]
  },
  {
   "cell_type": "markdown",
   "id": "5f27a423-896c-439b-86ad-f6e411fc82e4",
   "metadata": {},
   "source": [
    "## Solve for the risk-free rate and yield"
   ]
  },
  {
   "cell_type": "code",
   "execution_count": 59,
   "id": "c2d4de76-4dd5-41fc-805b-a9556268953a",
   "metadata": {},
   "outputs": [
    {
     "name": "stdout",
     "output_type": "stream",
     "text": [
      "Total solves: 30449, CPUs: 8, Batch size: 100\n",
      "Sample values:  [['A', '01/19/2024', 35, 0.16676592826843262, 0.02022078300872528, -0.00022528878441082558], ['A', '01/20/2023', 40, 0.599407434463501, 0.004701275696735967, -0.012945813410691473], ['A', '02/17/2023', 29, 0.15398073196411133, 0.02040405787846011, -0.00041230395759763805]]\n",
      "Problem cases:  []\n",
      "Total solve time: 916.9154798984528s\n"
     ]
    }
   ],
   "source": [
    "import copy, concurrent, multiprocessing\n",
    "\n",
    "r = 0.02; y = 0.0\n",
    "start_values = [r, y]\n",
    "bounds = [(-1.0, 1.0), (-1.0, 1.0)]\n",
    "# For the first case, SLSQP ended up fastest and just about as accurate\n",
    "# Hopefully, that is true for the others\n",
    "# try_methods = ['Nelder-Mead', 'Powell', 'CG', 'BFGS', 'L-BFGS-B', 'TNC', 'COBYLA', 'SLSQP', 'trust-constr'] \n",
    "\n",
    "# Create a list of concurrent tasks and run together\n",
    "do_threading = True\n",
    "tasks = []\n",
    "all_task_results = []\n",
    "results = []\n",
    "spot_prices = []\n",
    "strikes = []\n",
    "maturities = []\n",
    "implied_vols = []\n",
    "opt_prices = []\n",
    "grouped_df = focus_data.groupby(['ticker', 'Expiration'])\n",
    "cpus = multiprocessing.cpu_count()\n",
    "batch_size = 100 # math.ceil(len(grouped_df) / cpus)\n",
    "print(f'Total solves: {len(grouped_df)}, CPUs: {cpus}, Batch size: {batch_size}')\n",
    "\n",
    "start = time.time()\n",
    "with concurrent.futures.ProcessPoolExecutor() as executor:\n",
    "    for idx, (key, data) in enumerate(grouped_df):\n",
    "        results.append([key[0], key[1], data.shape[0]])\n",
    "        spot_prices.append(data['UnderlyingPrice'].to_numpy())\n",
    "        strikes.append(data['Strike'].to_numpy())\n",
    "        maturities.append(data['maturity'].iloc[0])\n",
    "        implied_vols.append(data['IV'].to_numpy())\n",
    "        opt_prices.append(data['Mid'].to_numpy())\n",
    "        if idx % batch_size == batch_size-1:\n",
    "            if do_threading:\n",
    "                tasks.append(executor.submit(batch_solve_call, start_values.copy(), bounds.copy(), spot_prices.copy(), strikes.copy(), maturities.copy(), implied_vols.copy(), opt_prices.copy()))\n",
    "            else:\n",
    "                batched_results = batch_solve_call(start_values, bounds, spot_prices.copy(), strikes.copy(), maturities.copy(), implied_vols.copy(), opt_prices.copy())\n",
    "                for result in batched_results:\n",
    "                    all_task_results.append(result)\n",
    "            spot_prices = []\n",
    "            strikes = []\n",
    "            maturities = []\n",
    "            implied_vols = []\n",
    "            opt_prices = []\n",
    "        #if idx + 1 >= batch_size * cpus:\n",
    "            #break\n",
    "    if len(spot_prices) > 0:\n",
    "        if do_threading:\n",
    "            tasks.append(executor.submit(batch_solve_call, start_values, bounds, spot_prices.copy(), strikes.copy(), maturities.copy(), implied_vols.copy(), opt_prices.copy()))\n",
    "        else:\n",
    "            batched_results = batch_solve_call(start_values, bounds, spot_prices.copy(), strikes.copy(), maturities.copy(), implied_vols.copy(), opt_prices.copy())\n",
    "            for result in batched_results:\n",
    "                all_task_results.append(result)\n",
    "    concurrent.futures.wait(tasks)    \n",
    "end = time.time()\n",
    "\n",
    "if do_threading:\n",
    "    for task in tasks:\n",
    "        for result in task.result():\n",
    "            all_task_results.append(result)\n",
    "\n",
    "# Gather results\n",
    "# Each element is a list of [ticker, Expiration, count, time, risk_free_rate, yield_rate]\n",
    "errors = []\n",
    "for idx, (result, task_res) in enumerate(zip(results, all_task_results)):\n",
    "    time_diff, res = task_res\n",
    "    if res.success:\n",
    "        result.append(time_diff)\n",
    "        result.append(res.x[0])\n",
    "        result.append(res.x[1])\n",
    "    else:\n",
    "        errors.append(result)\n",
    "        del results[idx]\n",
    "print('Sample values: ', results[0:3])\n",
    "print('Problem cases: ', errors)\n",
    "print(f'Total solve time: {end-start}s')"
   ]
  },
  {
   "cell_type": "code",
   "execution_count": 60,
   "id": "e04d120e-d3f4-4fa0-aa81-1b5da66f198f",
   "metadata": {},
   "outputs": [
    {
     "name": "stdout",
     "output_type": "stream",
     "text": [
      "['ZYXI', '11/18/2022', 7, 0.07892608642578125, 0.7233937287897988, 0.5452781853017455]\n"
     ]
    }
   ],
   "source": [
    "# Sanity check: see that we reached the end\n",
    "print(results[-1])"
   ]
  },
  {
   "cell_type": "code",
   "execution_count": 61,
   "id": "f90a6194-3dde-4720-a7f6-4229306d5628",
   "metadata": {},
   "outputs": [
    {
     "name": "stdout",
     "output_type": "stream",
     "text": [
      "  ticker  Expiration  Count  SolveTime  RiskFreeRate  YieldRate\n",
      "0      A  01/19/2024     35   0.166766      0.020221  -0.000225\n",
      "1      A  01/20/2023     40   0.599407      0.004701  -0.012946\n",
      "2      A  02/17/2023     29   0.153981      0.020404  -0.000412\n",
      "Solve times (sum, mean, median, max): 7142.086890697479 0.23455899670588456 0.1456770896911621 8.097209215164185\n",
      "Number of solves over a second: 627\n"
     ]
    }
   ],
   "source": [
    "r_and_y_df = pd.DataFrame(results).rename(columns={0: 'ticker', 1: 'Expiration', 2: 'Count', 3: 'SolveTime', 4: 'RiskFreeRate', 5: 'YieldRate'})\n",
    "print(r_and_y_df.iloc[0:3])\n",
    "print('Solve times (sum, mean, median, max):', r_and_y_df['SolveTime'].sum(), r_and_y_df['SolveTime'].mean(), r_and_y_df['SolveTime'].median(), r_and_y_df['SolveTime'].max())\n",
    "print('Number of solves over a second:', r_and_y_df[r_and_y_df['SolveTime'] > 1.0].shape[0])"
   ]
  },
  {
   "cell_type": "code",
   "execution_count": 62,
   "id": "9aa9d2ec-3a21-4bcd-a523-84bfd6b40d70",
   "metadata": {},
   "outputs": [
    {
     "name": "stdout",
     "output_type": "stream",
     "text": [
      "    Expiration      Mean    Median       Min       Max       Std\n",
      "0   01/18/2023  0.033070  0.033070  0.027540  0.038599  0.007820\n",
      "1   01/19/2024  0.035220  0.025249 -0.736571  0.861220  0.113843\n",
      "2   01/20/2023  0.017578  0.018980 -0.840695  0.880304  0.129794\n",
      "3   01/31/2023  0.031817  0.027694  0.026633  0.041124  0.008078\n",
      "4   02/15/2023  0.031838  0.031838  0.027931  0.035746  0.005526\n",
      "5   02/17/2023  0.020541  0.021339 -0.884499  0.890826  0.127459\n",
      "6   03/15/2024 -0.008683  0.022709 -0.105418  0.025269  0.064514\n",
      "7   03/17/2023  0.024229  0.022300 -0.719393  0.874374  0.100926\n",
      "8   03/22/2023  0.027464  0.027464  0.027464  0.027464       NaN\n",
      "9   03/31/2023  0.028737  0.023351 -0.298992  0.227095  0.099760\n",
      "10  04/19/2023  0.027910  0.027910  0.027910  0.027910       NaN\n",
      "11  04/21/2023  0.037734  0.024586 -0.857529  0.890061  0.109142\n",
      "12  05/19/2023  0.022892  0.021951 -0.030932  0.104744  0.025132\n",
      "13  06/16/2023  0.026739  0.023979 -0.625252  0.516268  0.063145\n",
      "14  06/21/2024  0.032038  0.024959 -0.576643  0.517825  0.103861\n",
      "15  06/30/2023  0.011371  0.022437 -0.233114  0.156280  0.068931\n",
      "16  07/21/2023  0.018900  0.022820 -0.035488  0.051714  0.014646\n",
      "17  08/18/2023  0.035007  0.023242 -0.024054  0.269645  0.062408\n",
      "18  08/26/2022  0.123524  0.058470 -0.787513  0.891961  0.269254\n",
      "19  08/29/2022  0.014721  0.005125 -0.262845  0.330883  0.216119\n",
      "20  08/30/2022  0.077430  0.077430  0.019106  0.135753  0.082482\n",
      "21  08/31/2022  0.056878  0.051486 -0.198718  0.339440  0.135140\n",
      "22  09/01/2022  0.075333  0.075333  0.037338  0.113328  0.053733\n",
      "23  09/02/2022  0.005561  0.020000 -0.865982  0.877454  0.255695\n",
      "24  09/06/2022  0.085844  0.060635  0.020130  0.254762  0.079674\n",
      "25  09/07/2022  0.068562  0.060313 -0.016300  0.187483  0.060685\n",
      "26  09/08/2022  0.055833  0.055833  0.050996  0.060669  0.006840\n",
      "27  09/09/2022 -0.004776  0.015041 -0.897528  0.855867  0.219266\n",
      "28  09/12/2022  0.045278  0.050654  0.020484  0.056333  0.013047\n",
      "29  09/13/2022  0.042022  0.042022  0.042022  0.042022       NaN\n",
      "30  09/14/2022  0.034343  0.027252  0.012103  0.057793  0.018673\n",
      "31  09/15/2022  0.042148  0.042148  0.042148  0.042148       NaN\n",
      "32  09/15/2023  0.020133  0.023346 -0.365290  0.207492  0.060372\n",
      "33  09/16/2022 -0.055394 -0.009005 -0.898146  0.896778  0.251560\n",
      "34  09/19/2022  0.040324  0.046372  0.008868  0.055823  0.016917\n",
      "35  09/20/2022  0.020020  0.020020  0.020020  0.020020       NaN\n",
      "36  09/21/2022  0.036868  0.037714  0.016799  0.054932  0.013101\n",
      "37  09/22/2022  0.042676  0.042676  0.042676  0.042676       NaN\n",
      "38  09/23/2022 -0.008919  0.002664 -0.847042  0.835852  0.165639\n",
      "39  09/26/2022  0.036238  0.038240  0.026703  0.045492  0.008477\n",
      "40  09/27/2022  0.041589  0.041589  0.041589  0.041589       NaN\n",
      "41  09/28/2022  0.039929  0.044138  0.007476  0.059109  0.019342\n",
      "42  09/29/2022  0.059887  0.059887  0.059887  0.059887       NaN\n",
      "43  09/30/2022 -0.006272  0.012422 -0.896984  0.890231  0.178936\n",
      "44  10/03/2022  0.026995  0.026995  0.026995  0.026995       NaN\n",
      "45  10/05/2022  0.030772  0.030772  0.030772  0.030772       NaN\n",
      "46  10/07/2022  0.030508  0.028594  0.006703  0.056227  0.024817\n",
      "47  10/14/2022  0.039447  0.039447  0.039447  0.039447       NaN\n",
      "48  10/19/2022  0.032735  0.032735  0.031542  0.033927  0.001686\n",
      "49  10/20/2023  0.027830  0.022807 -0.098530  0.119705  0.027785\n",
      "50  10/21/2022 -0.010636  0.009816 -0.896978  0.898505  0.204102\n",
      "51  10/31/2022  0.042002  0.034135  0.029832  0.062040  0.017486\n",
      "52  11/16/2022  0.035286  0.035286  0.029765  0.040806  0.007807\n",
      "53  11/17/2023  0.026722  0.026155 -0.034792  0.076974  0.023002\n",
      "54  11/18/2022 -0.000470  0.012289 -0.897162  0.877630  0.174386\n",
      "55  11/30/2022  0.035160  0.028903  0.019924  0.056654  0.019148\n",
      "56  12/15/2023  0.027451  0.023946 -0.798687  0.641418  0.119781\n",
      "57  12/16/2022  0.011582  0.018418 -0.868646  0.868978  0.145981\n",
      "58  12/17/2027  0.024629  0.024629  0.024629  0.024629       NaN\n",
      "59  12/18/2026  0.036549  0.036549  0.036549  0.036549       NaN\n",
      "60  12/19/2025  0.037736  0.037736  0.037736  0.037736       NaN\n",
      "61  12/20/2024  0.015041  0.025576 -0.140794  0.041382  0.042664\n",
      "62  12/21/2022  0.031381  0.031381  0.028411  0.034351  0.004201\n",
      "63  12/30/2022  0.041424  0.024592 -0.102801  0.487515  0.115349\n"
     ]
    }
   ],
   "source": [
    "# This method of getting the risk-free rate can have surprisingly large variance\n",
    "# For now, treat each ticker as having its own risk-free rate\n",
    "r_and_y_df_clean = r_and_y_df[(r_and_y_df['RiskFreeRate'] > -0.9) & (r_and_y_df['RiskFreeRate'] < 0.9)]\n",
    "rfr_analysis = []\n",
    "for expiration, clean_data in r_and_y_df_clean.groupby('Expiration'):\n",
    "    rfr_analysis.append([expiration, clean_data['RiskFreeRate'].mean(), clean_data['RiskFreeRate'].median(), clean_data['RiskFreeRate'].min(), clean_data['RiskFreeRate'].max(), clean_data['RiskFreeRate'].std()])\n",
    "rfr_analysis_df = pd.DataFrame(rfr_analysis).rename(columns={0:'Expiration', 1:'Mean', 2:'Median', 3:'Min', 4:'Max', 5:'Std'})\n",
    "print(rfr_analysis_df.to_string())"
   ]
  },
  {
   "cell_type": "code",
   "execution_count": 63,
   "id": "77d96529-00cf-4ce5-b06e-6edbad39d34f",
   "metadata": {},
   "outputs": [
    {
     "name": "stdout",
     "output_type": "stream",
     "text": [
      "Done\n"
     ]
    }
   ],
   "source": [
    "# Save for use in other notebooks\n",
    "r_and_y_df.to_csv(os.path.join(root_dir, 'riskfreerate_and_yield.csv'))\n",
    "\n",
    "print('Done')"
   ]
  },
  {
   "cell_type": "code",
   "execution_count": null,
   "id": "4b04759e-a703-4b0a-b845-1453918c7cb0",
   "metadata": {},
   "outputs": [],
   "source": []
  },
  {
   "cell_type": "code",
   "execution_count": null,
   "id": "1631a5ff-e5cd-4170-b2b9-038105e99fe5",
   "metadata": {},
   "outputs": [],
   "source": []
  }
 ],
 "metadata": {
  "kernelspec": {
   "display_name": "Python 3 (ipykernel)",
   "language": "python",
   "name": "python3"
  },
  "language_info": {
   "codemirror_mode": {
    "name": "ipython",
    "version": 3
   },
   "file_extension": ".py",
   "mimetype": "text/x-python",
   "name": "python",
   "nbconvert_exporter": "python",
   "pygments_lexer": "ipython3",
   "version": "3.8.10"
  }
 },
 "nbformat": 4,
 "nbformat_minor": 5
}
