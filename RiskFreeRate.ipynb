{
 "cells": [
  {
   "cell_type": "markdown",
   "id": "80569e18-79e6-4983-a67c-6ad7520c50fb",
   "metadata": {},
   "source": [
    "# Risk-free rates\n",
    "\n",
    "I found some strange behavior when working with Heston around the risk-free rate, so I backed up and examined the concept alone. In the same manner that the volatility can be implied from an option price given the risk-free rate, the risk-free rate can be implied given the volatility. In attempting to get the risk-free rate, I saw wildly varying values. I would have expected something fairly consistent. Perhaps this data was fudged for this exercise (to avoid breach of contract with Bloomberg) or fabricated entirely. Or otherwise, I'm missing something."
   ]
  },
  {
   "cell_type": "markdown",
   "id": "28cbf358-f228-4099-b5d5-2d0e4ee17dbb",
   "metadata": {},
   "source": [
    "## Define pricing function"
   ]
  },
  {
   "cell_type": "code",
   "execution_count": 4,
   "id": "9eb475dd-7e33-4013-88ea-e34c4174f829",
   "metadata": {},
   "outputs": [
    {
     "name": "stdout",
     "output_type": "stream",
     "text": [
      "2.1333684449162007\n"
     ]
    }
   ],
   "source": [
    "import numpy as np\n",
    "from scipy.stats import norm\n",
    "\n",
    "def bs_call(S, X, T, r, sigma):\n",
    "    sig_sqrt_t = sigma * np.sqrt(T)\n",
    "    d1 = (np.log(S/X) + (r+sigma*sigma/2)*T)/sig_sqrt_t\n",
    "    d2 = d1 - sig_sqrt_t\n",
    "    opt_val = S * norm.cdf(d1) - X * np.exp(-r*T) * norm.cdf(d2)\n",
    "    return opt_val\n",
    "\n",
    "print(bs_call(60, 65, 0.25, 0.08, 0.3))"
   ]
  },
  {
   "cell_type": "markdown",
   "id": "82d40405-1675-4192-9846-312fc4820372",
   "metadata": {},
   "source": [
    "## Verify that the function is monotonic\n",
    "\n",
    "And therefore has only one zero"
   ]
  },
  {
   "cell_type": "code",
   "execution_count": 11,
   "id": "89414438-2270-4754-b844-f742cc16b308",
   "metadata": {},
   "outputs": [
    {
     "data": {
      "text/plain": [
       "[<matplotlib.lines.Line2D at 0x7efbcb750460>]"
      ]
     },
     "execution_count": 11,
     "metadata": {},
     "output_type": "execute_result"
    },
    {
     "data": {
      "image/png": "[encoded data removed]",
      "text/plain": [
       "<Figure size 640x480 with 1 Axes>"
      ]
     },
     "metadata": {},
     "output_type": "display_data"
    }
   ],
   "source": [
    "import matplotlib.pyplot as plt\n",
    "\n",
    "rates = np.linspace(-1.0, 1.0, 1000)\n",
    "call_values = bs_call(1, 1, 1, rates, 0.2)\n",
    "\n",
    "plt.plot(rates, call_values)"
   ]
  },
  {
   "cell_type": "markdown",
   "id": "ab2e9225-359f-4f57-8b15-3ff9fd676e9c",
   "metadata": {},
   "source": [
    "## Import data"
   ]
  },
  {
   "cell_type": "code",
   "execution_count": 12,
   "id": "c0bb3076-ce06-4d3e-a3ed-aa4a024fcb37",
   "metadata": {},
   "outputs": [],
   "source": [
    "import os\n",
    "import pandas as pd\n",
    "import datetime as dt\n",
    "\n",
    "raw_data = pd.read_csv(os.path.join('/mnt/c/Users/Steve/implied_vol_machine_learning', 'options_20220824.csv'))\n",
    "call_data = raw_data.loc[(raw_data[\"Type\"] == \"call\") & (raw_data[\"Ask\"] < 99000.0)].copy()\n",
    "call_data.loc[:, \"moneyness\"] = call_data[\"Strike\"] / call_data[\"UnderlyingPrice\"]\n",
    "call_data.loc[:, \"implied_vol\"] = call_data[\"IV\"]\n",
    "call_data.loc[:, \"maturity\"] = (pd.to_datetime(call_data[\"Expiration\"]) - pd.to_datetime(call_data[\" DataDate\"])).dt.days / 365\n",
    "call_data.loc[:, \"ticker\"] = call_data[\"UnderlyingSymbol\"]\n",
    "call_data.loc[:, \"Mid\"] = (call_data[\"Bid\"]+call_data[\"Ask\"])/2"
   ]
  },
  {
   "cell_type": "code",
   "execution_count": 34,
   "id": "46c27586-71c3-4032-8565-c4281f5a1b8c",
   "metadata": {},
   "outputs": [],
   "source": [
    "tesla_data = call_data.loc[call_data['ticker'] == 'TSLA']\n",
    "focus_data = tesla_data.loc[tesla_data['maturity'] == tesla_data['maturity'].median()].copy()"
   ]
  },
  {
   "cell_type": "markdown",
   "id": "5f27a423-896c-439b-86ad-f6e411fc82e4",
   "metadata": {},
   "source": [
    "## Solve for the risk-free rate\n",
    "\n",
    "And observe the wildly varying values ('Mid' is best, but still kind of bad)"
   ]
  },
  {
   "cell_type": "code",
   "execution_count": 33,
   "id": "e3ae2f7c-5a6c-4228-8c9c-1beaaff93366",
   "metadata": {},
   "outputs": [
    {
     "name": "stdout",
     "output_type": "stream",
     "text": [
      "Risk free rates: index=1235718, {'Bid': -0.15932502474175886, 'Ask': 0.28034347464541043, 'Mid': 0.05488455344462904}\n",
      "Risk free rates: index=1235720, {'Bid': -0.06773948951056515, 'Ask': 0.13788427766394148, 'Mid': 0.03384172989886915}\n",
      "Risk free rates: index=1235722, {'Bid': -0.03110350163090737, 'Ask': 0.12076420992123132, 'Mid': 0.044159199005478426}\n",
      "Risk free rates: index=1235724, {'Bid': -0.01819394320815128, 'Ask': 0.10328376981456285, 'Mid': 0.042116849875004345}\n",
      "Risk free rates: index=1235726, {'Bid': -0.018154762171711688, 'Ask': 0.06379315979169033, 'Mid': 0.02264744483869132}\n",
      "Risk free rates: index=1235728, {'Bid': -0.015735640548608675, 'Ask': 0.06561040656586675, 'Mid': 0.02477424789273057}\n",
      "Risk free rates: index=1235730, {'Bid': -0.0151857829866626, 'Ask': 0.056059850659978906, 'Mid': 0.020320929181579767}\n"
     ]
    }
   ],
   "source": [
    "from scipy.optimize import root\n",
    "\n",
    "def solve_for_r(solve_params, S, X, T, implied_vol, opt_price):\n",
    "    r = solve_params[0]\n",
    "    return bs_call(S, X, T, r, implied_vol) - opt_price\n",
    "\n",
    "price_types = ['Bid', 'Ask', 'Mid']\n",
    "for count, (call_idx, call_opt) in enumerate(focus_data.iterrows()):\n",
    "    risk_free_rates = {}\n",
    "    for price_type in price_types:\n",
    "        res = root(solve_for_r, [0.0], args=(call_opt['UnderlyingPrice'], call_opt['Strike'], call_opt['maturity'], call_opt['implied_vol'], call_opt[price_type]))\n",
    "        if res.success:\n",
    "            risk_free_rates[price_type] = res.x[0]\n",
    "    print(f'Risk free rates: index={call_idx}, {risk_free_rates}')\n",
    "    if count > 5:\n",
    "        break"
   ]
  },
  {
   "cell_type": "code",
   "execution_count": null,
   "id": "915f13c7-d102-44e3-8743-932480a6303f",
   "metadata": {},
   "outputs": [],
   "source": []
  }
 ],
 "metadata": {
  "kernelspec": {
   "display_name": "Python 3 (ipykernel)",
   "language": "python",
   "name": "python3"
  },
  "language_info": {
   "codemirror_mode": {
    "name": "ipython",
    "version": 3
   },
   "file_extension": ".py",
   "mimetype": "text/x-python",
   "name": "python",
   "nbconvert_exporter": "python",
   "pygments_lexer": "ipython3",
   "version": "3.8.10"
  }
 },
 "nbformat": 4,
 "nbformat_minor": 5
}
