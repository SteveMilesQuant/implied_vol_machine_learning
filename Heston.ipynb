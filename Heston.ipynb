{
 "cells": [
  {
   "cell_type": "markdown",
   "id": "eb2218b0-dc0c-4150-9c37-ee973f8b6266",
   "metadata": {},
   "source": [
    "# Heston model machine learning (almost)\n",
    "\n",
    "I attempted to use the Heston model to fit some implied volatility data and ran into some performance issues and suspicious risk-free rate values. Since fitting the parameters was taking so long, I abandoned this model for SABR."
   ]
  },
  {
   "cell_type": "markdown",
   "id": "b14d55a2-1424-4bfd-9277-70c4600a52ee",
   "metadata": {},
   "source": [
    "## Import data"
   ]
  },
  {
   "cell_type": "code",
   "execution_count": 7,
   "id": "93255f2f-1ad3-4fd3-be5b-12e645ab6a57",
   "metadata": {},
   "outputs": [
    {
     "name": "stdout",
     "output_type": "stream",
     "text": [
      "Quote dates: ['08/24/2022 16:00']\n",
      "Moneyness: min=0.005609846402405502, max=8750.0\n",
      "Maturity: min=-0.0027397260273972603, max=5.315068493150685\n",
      "Deep out of money OptionValues: min=0.0 max=68.7, count=34451\n"
     ]
    }
   ],
   "source": [
    "import os\n",
    "import pandas as pd\n",
    "import datetime as dt\n",
    "\n",
    "\n",
    "raw_data = pd.read_csv(os.path.join('/mnt/c/Users/Steve/implied_vol_machine_learning', 'options_20220824.csv'))\n",
    "\n",
    "# For simplicity, let's only analyze call options\n",
    "# Also clean out some bad data\n",
    "call_data = raw_data.loc[(raw_data[\"Type\"] == \"call\") & (raw_data[\"Ask\"] < 99000.0)].copy()\n",
    "\n",
    "# Add some columns\n",
    "call_data.loc[:, \"moneyness\"] = call_data[\"Strike\"] / call_data[\"UnderlyingPrice\"]\n",
    "call_data.loc[:, \"implied_vol\"] = call_data[\"IV\"]\n",
    "call_data.loc[:, \"maturity\"] = (pd.to_datetime(call_data[\"Expiration\"]) - pd.to_datetime(call_data[\" DataDate\"])).dt.days / 365\n",
    "call_data.loc[:, \"ticker\"] = call_data[\"UnderlyingSymbol\"]\n",
    "call_data.loc[:, \"Mid\"] = (call_data[\"Bid\"]+call_data[\"Ask\"])/2\n",
    "print(f\"Quote dates: {call_data[' DataDate'].unique()}\")\n",
    "print(f\"Moneyness: min={call_data['moneyness'].min()}, max={call_data['moneyness'].max()}\")\n",
    "print(f\"Maturity: min={call_data['maturity'].min()}, max={call_data['maturity'].max()}\")\n",
    "\n",
    "# Drop the columns we don't need\n",
    "# To avoid errors later, limit the value of moneyness\n",
    "deep_out_of_money = call_data.loc[call_data[\"moneyness\"] > 2.5, [\"Mid\"]]\n",
    "print(f\"Deep out of money OptionValues: min={deep_out_of_money['Mid'].min()} max={deep_out_of_money['Mid'].max()}, count={deep_out_of_money.shape[0]}\")\n",
    "model_input_data = call_data.loc[call_data[\"moneyness\"] <= 2.5, [\"ticker\", \"moneyness\", \"maturity\", \"implied_vol\"]].copy() # we don't need other columns for this exercise\n"
   ]
  },
  {
   "cell_type": "markdown",
   "id": "912a5c72-cc25-44b6-8bc1-81eb5e80c4e4",
   "metadata": {},
   "source": [
    "## Create functions\n",
    "\n",
    "One to produce a Heston volatility surface from the model parameters, maturity, and moneyness. A second function to perform array-like MSE calculations on the first function, given the expected value of the implied volatility. One open question I have, unrelated to the exercise at hand, is how Heston can produce a volatility surface without any option prices. SABR is somehow capable of that, as well. I'd love to learn how."
   ]
  },
  {
   "cell_type": "code",
   "execution_count": 14,
   "id": "56875a10-d48b-49ef-b40a-1118515f54c9",
   "metadata": {},
   "outputs": [
    {
     "name": "stdout",
     "output_type": "stream",
     "text": [
      "Test value: [0.11589544 0.13062149 0.13062149]\n"
     ]
    }
   ],
   "source": [
    "import QuantLib as ql\n",
    "import numpy as np\n",
    "\n",
    "today = ql.Date(24, 8, 2022)\n",
    "calendar = ql.NullCalendar()\n",
    "day_count = ql.Actual365Fixed()\n",
    "spot_quote = ql.QuoteHandle(ql.SimpleQuote(1))\n",
    "\n",
    "# Create model\n",
    "# Not sure how to update some of these QuantLib objects, so just re-creating them every time\n",
    "def heston_vol_surface(maturity, moneyness, r, y, v0, kappa, theta, rho, sigma):\n",
    "    riskFreeCurve = ql.FlatForward(today, r, day_count)\n",
    "    flat_ts = ql.YieldTermStructureHandle(riskFreeCurve)\n",
    "    dividend_ts = ql.YieldTermStructureHandle(ql.FlatForward(today, y, day_count))\n",
    "    heston_process = ql.HestonProcess(flat_ts, dividend_ts, spot_quote, v0, kappa, theta, sigma, rho)\n",
    "    heston_model = ql.HestonModel(heston_process)\n",
    "    heston_handle = ql.HestonModelHandle(heston_model)\n",
    "    heston_vol_surface = ql.HestonBlackVolSurface(heston_handle)\n",
    "    return np.array([heston_vol_surface.blackVol(float(mat), float(money)) for mat, money in zip(maturity, moneyness)])\n",
    "\n",
    "# Kick the tires (basic test)\n",
    "vol1 = heston_vol_surface(\n",
    "    maturity = [0.5, 1, 1,5],\n",
    "    moneyness = [1.0, 1.0, 1.0],\n",
    "    r = 0.01,\n",
    "    y = 0.0,\n",
    "    v0 = 0.01,\n",
    "    kappa = 1.0,\n",
    "    theta = 0.04,\n",
    "    rho = -0.3,\n",
    "    sigma = 0.4\n",
    ")\n",
    "print(f'Test value: {vol1}')\n",
    "\n",
    "# Create MSE function\n",
    "def heston_vol_mse(model_params, maturity, moneyness, implied_vol):\n",
    "    r, y, v0, kappa, theta, rho, sigma = model_params\n",
    "    val = heston_vol_surface(maturity, moneyness, r, y, v0, kappa, theta, rho, sigma) - implied_vol\n",
    "    return np.sqrt((val * val).sum())"
   ]
  },
  {
   "cell_type": "markdown",
   "id": "5e344b02-d51f-43b2-9530-c7c93dad65f8",
   "metadata": {},
   "source": [
    "## Fit model parameters\n",
    "\n",
    "A single ticker's model fitting took 13s to perform, which was prohibitive for this exercise. Perhaps through asyncio or reproducing the QuantLib calculations myself in a more efficient manner for this purpose, I may be able to make Heston feasible. For now, I have abandoned it for SABR.\n",
    "\n",
    "In addition, I found that when solving for the risk-free rate as I would any other parameter, the solver typically went to the boundaries. I attempted to get the risk-free rate independently (and failed), which you can see in RiskFreeRate.ipynb. For lack of a better option within the scope of this exercise, I just set the risk-free rate to zero."
   ]
  },
  {
   "cell_type": "code",
   "execution_count": 15,
   "id": "6a8d049a-cad7-4e64-bde8-bd611849f356",
   "metadata": {},
   "outputs": [
    {
     "name": "stdout",
     "output_type": "stream",
     "text": [
      "19.17981719970703\n",
      "[]\n",
      "{'A': array([-0.11961292, -0.24831387,  0.098184  ,  0.40740982,  0.25454315,\n",
      "       -0.52045099,  0.6914804 ])}\n"
     ]
    }
   ],
   "source": [
    "import time\n",
    "from scipy.optimize import minimize\n",
    "\n",
    "r = 0.0; y = 0.0; v0 = 0.01; kappa = 0.5; theta = 0.3; rho = -0.5; sigma = 0.8\n",
    "start_values = [r, y, v0, kappa, theta, rho, sigma]\n",
    "bounds = [(-1.0, 1.0), (-1.0, 1.0), (0.001, 1.0), (0.001, 10.0), (0.001, 1.0), (-1.0, 1.0), (0.001, 1.0)]\n",
    "\n",
    "model_params_by_ticker = {}\n",
    "error_tickers = []\n",
    "start = time.time()\n",
    "for ticker, ticker_data in model_input_data.groupby('ticker'):\n",
    "    res = minimize(heston_vol_mse, start_values, bounds=bounds, args=(ticker_data['maturity'], ticker_data['moneyness'], ticker_data['implied_vol']), tol=1e-3, method=\"Powell\")\n",
    "    if res.success:\n",
    "        model_params_by_ticker[ticker] = res.x\n",
    "    else:\n",
    "        error_tickers.append(ticker)\n",
    "    break\n",
    "end = time.time()\n",
    "\n",
    "print(end-start)\n",
    "print(error_tickers)\n",
    "print(model_params_by_ticker)"
   ]
  },
  {
   "cell_type": "code",
   "execution_count": null,
   "id": "e518fb2d-37db-4778-8fe4-229863e57a08",
   "metadata": {},
   "outputs": [],
   "source": []
  }
 ],
 "metadata": {
  "kernelspec": {
   "display_name": "Python 3 (ipykernel)",
   "language": "python",
   "name": "python3"
  },
  "language_info": {
   "codemirror_mode": {
    "name": "ipython",
    "version": 3
   },
   "file_extension": ".py",
   "mimetype": "text/x-python",
   "name": "python",
   "nbconvert_exporter": "python",
   "pygments_lexer": "ipython3",
   "version": "3.8.10"
  }
 },
 "nbformat": 4,
 "nbformat_minor": 5
}
