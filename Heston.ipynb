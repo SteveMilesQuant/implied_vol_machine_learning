{
 "cells": [
  {
   "cell_type": "code",
   "execution_count": 40,
   "id": "93255f2f-1ad3-4fd3-be5b-12e645ab6a57",
   "metadata": {},
   "outputs": [
    {
     "name": "stdout",
     "output_type": "stream",
     "text": [
      "Quote dates: ['08/24/2022 16:00']\n",
      "Moneyness: min=0.005609846402405502, max=8750.0\n",
      "Maturity: min=-0.0027397260273972603, max=5.315068493150685\n",
      "Deep out of money OptionValues: min=0.0 max=68.7, count=34451\n"
     ]
    }
   ],
   "source": [
    "import os\n",
    "import pandas as pd\n",
    "import datetime as dt\n",
    "\n",
    "\n",
    "raw_data = pd.read_csv(os.path.join('/mnt/c/Users/Steve/implied_vol_machine_learning', 'options_20220824.csv'))\n",
    "\n",
    "# For simplicity, let's only analyze call options\n",
    "# Also clean out some bad data\n",
    "call_data = raw_data.loc[(raw_data[\"Type\"] == \"call\") & (raw_data[\"Ask\"] < 99000.0)].copy()\n",
    "\n",
    "# Add some columns\n",
    "call_data.loc[:, \"moneyness\"] = call_data[\"Strike\"] / call_data[\"UnderlyingPrice\"]\n",
    "call_data.loc[:, \"implied_vol\"] = call_data[\"IV\"]\n",
    "call_data.loc[:, \"maturity\"] = (pd.to_datetime(call_data[\"Expiration\"]) - pd.to_datetime(call_data[\" DataDate\"])).dt.days / 365\n",
    "call_data.loc[:, \"ticker\"] = call_data[\"UnderlyingSymbol\"]\n",
    "call_data.loc[:, \"Mid\"] = (call_data[\"Bid\"]+call_data[\"Ask\"])/2\n",
    "print(f\"Quote dates: {call_data[' DataDate'].unique()}\")\n",
    "print(f\"Moneyness: min={call_data['moneyness'].min()}, max={call_data['moneyness'].max()}\")\n",
    "print(f\"Maturity: min={call_data['maturity'].min()}, max={call_data['maturity'].max()}\")\n",
    "\n",
    "# Drop the columns we don't need\n",
    "# To avoid errors later, limit the value of moneyness\n",
    "deep_out_of_money = call_data.loc[call_data[\"moneyness\"] > 2.5, [\"Mid\"]]\n",
    "print(f\"Deep out of money OptionValues: min={deep_out_of_money['Mid'].min()} max={deep_out_of_money['Mid'].max()}, count={deep_out_of_money.shape[0]}\")\n",
    "model_input_data = call_data.loc[call_data[\"moneyness\"] <= 2.5, [\"ticker\", \"moneyness\", \"maturity\", \"implied_vol\"]].copy() # we don't need other columns for this exercise\n"
   ]
  },
  {
   "cell_type": "code",
   "execution_count": 57,
   "id": "56875a10-d48b-49ef-b40a-1118515f54c9",
   "metadata": {},
   "outputs": [
    {
     "name": "stdout",
     "output_type": "stream",
     "text": [
      "Test value: [0.11589544 0.13062149 0.13062149]\n"
     ]
    }
   ],
   "source": [
    "import QuantLib as ql\n",
    "import numpy as np\n",
    "\n",
    "today = ql.Date(24, 8, 2022)\n",
    "calendar = ql.NullCalendar()\n",
    "day_count = ql.Actual365Fixed()\n",
    "spot_quote = ql.QuoteHandle(ql.SimpleQuote(1))\n",
    "\n",
    "# Create model\n",
    "# Not sure how to update some of these QuantLib objects, so just re-creating them every time\n",
    "def heston_vol_surface(maturity, moneyness, r, v0, kappa, theta, rho, sigma):\n",
    "    riskFreeCurve = ql.FlatForward(today, r, day_count)\n",
    "    flat_ts = ql.YieldTermStructureHandle(riskFreeCurve)\n",
    "    dividend_ts = ql.YieldTermStructureHandle(ql.FlatForward(today, 0.0, day_count))\n",
    "    heston_process = ql.HestonProcess(flat_ts, dividend_ts, spot_quote, v0, kappa, theta, sigma, rho)\n",
    "    heston_model = ql.HestonModel(heston_process)\n",
    "    heston_handle = ql.HestonModelHandle(heston_model)\n",
    "    heston_vol_surface = ql.HestonBlackVolSurface(heston_handle)\n",
    "    return np.array([heston_vol_surface.blackVol(float(mat), float(money)) for mat, money in zip(maturity, moneyness)])\n",
    "\n",
    "# Kick the tires (basic test)\n",
    "vol1 = heston_vol_surface(\n",
    "    maturity = [0.5, 1, 1,5],\n",
    "    moneyness = [1.0, 1.0, 1.0],\n",
    "    r = 0.01,\n",
    "    v0 = 0.01,\n",
    "    kappa = 1.0,\n",
    "    theta = 0.04,\n",
    "    rho = -0.3,\n",
    "    sigma = 0.4\n",
    ")\n",
    "print(f'Test value: {vol1}')\n",
    "\n",
    "# Create MSE function\n",
    "def heston_vol_mse(model_params, maturity, moneyness, implied_vol):\n",
    "    r, v0, kappa, theta, rho, sigma = model_params\n",
    "    val = heston_vol_surface(maturity, moneyness, r, v0, kappa, theta, rho, sigma) - implied_vol\n",
    "    return np.sqrt(val * val).sum()"
   ]
  },
  {
   "cell_type": "code",
   "execution_count": 60,
   "id": "6a8d049a-cad7-4e64-bde8-bd611849f356",
   "metadata": {},
   "outputs": [
    {
     "name": "stdout",
     "output_type": "stream",
     "text": [
      "12.988272428512573\n",
      "[]\n",
      "{'A': array([ 0.35109368,  0.08420201,  2.61683488,  0.11353358, -0.41036054,\n",
      "        0.99330623])}\n"
     ]
    }
   ],
   "source": [
    "import time\n",
    "from scipy.optimize import minimize\n",
    "\n",
    "r = 0.0; v0 = 0.01; kappa = 0.5; theta = 0.3; rho = -0.5; sigma = 0.8\n",
    "start_values = [r, v0, kappa, theta, rho, sigma]\n",
    "bounds = [(-1.0, 1.0), (0.001, 1.0), (0.001, 10.0), (0.001, 1.0), (-1.0, 1.0), (0.001, 1.0)]\n",
    "\n",
    "model_params_by_ticker = {}\n",
    "error_tickers = []\n",
    "start = time.time()\n",
    "for ticker, ticker_data in model_input_data.groupby('ticker'):\n",
    "    try:\n",
    "        res = minimize(heston_vol_mse, start_values, bounds=bounds, args=(ticker_data['maturity'], ticker_data['moneyness'], ticker_data['implied_vol']), tol=1e-3, method=\"Powell\")\n",
    "        if res.success:\n",
    "            model_params_by_ticker[ticker] = res.x\n",
    "        else:\n",
    "            error_tickers.append(ticker)\n",
    "    except:\n",
    "        error_tickers.append(ticker)\n",
    "    break\n",
    "end = time.time()\n",
    "\n",
    "print(end-start)\n",
    "print(error_tickers)\n",
    "print(model_params_by_ticker)"
   ]
  },
  {
   "cell_type": "code",
   "execution_count": 44,
   "id": "e518fb2d-37db-4778-8fe4-229863e57a08",
   "metadata": {},
   "outputs": [
    {
     "name": "stdout",
     "output_type": "stream",
     "text": [
      "{'A': array([ 0.35109368,  0.08420201,  2.61683488,  0.11353358, -0.41036054,\n",
      "        0.99330623])}\n"
     ]
    }
   ],
   "source": [
    "print(model_params_by_ticker)"
   ]
  },
  {
   "cell_type": "code",
   "execution_count": null,
   "id": "33a9b8e5-0aaf-4c02-be66-f61d6bb2352b",
   "metadata": {},
   "outputs": [],
   "source": []
  },
  {
   "cell_type": "code",
   "execution_count": null,
   "id": "a5067c0b-6101-4e6e-a35f-cdd3c4cc79b5",
   "metadata": {},
   "outputs": [],
   "source": []
  }
 ],
 "metadata": {
  "kernelspec": {
   "display_name": "Python 3 (ipykernel)",
   "language": "python",
   "name": "python3"
  },
  "language_info": {
   "codemirror_mode": {
    "name": "ipython",
    "version": 3
   },
   "file_extension": ".py",
   "mimetype": "text/x-python",
   "name": "python",
   "nbconvert_exporter": "python",
   "pygments_lexer": "ipython3",
   "version": "3.8.10"
  }
 },
 "nbformat": 4,
 "nbformat_minor": 5
}
