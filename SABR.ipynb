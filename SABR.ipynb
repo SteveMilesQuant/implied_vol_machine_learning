{
 "cells": [
  {
   "cell_type": "code",
   "execution_count": 25,
   "id": "f8a42c65-316f-4dd4-86ce-fecd89490264",
   "metadata": {},
   "outputs": [
    {
     "name": "stdout",
     "output_type": "stream",
     "text": [
      "Quote dates: ['08/24/2022 16:00']\n",
      "Moneyness: min=0.005609846402405502, max=8750.0\n",
      "Maturity: min=-0.0027397260273972603, max=5.315068493150685\n"
     ]
    }
   ],
   "source": [
    "import os\n",
    "import pandas as pd\n",
    "import datetime as dt\n",
    "\n",
    "raw_data = pd.read_csv(os.path.join('/mnt/c/Users/Steve/implied_vol_machine_learning', 'options_20220824.csv'))\n",
    "\n",
    "# For simplicity, let's only analyze call options\n",
    "# Also clean out some bad data\n",
    "call_data = raw_data.loc[(raw_data[\"Type\"] == \"call\") & (raw_data[\"Ask\"] < 99000.0)].copy()\n",
    "\n",
    "# Add some columns\n",
    "call_data.loc[:, \"moneyness\"] = call_data[\"Strike\"] / call_data[\"UnderlyingPrice\"]\n",
    "call_data.loc[:, \"implied_vol\"] = call_data[\"IV\"]\n",
    "call_data.loc[:, \"maturity\"] = (pd.to_datetime(call_data[\"Expiration\"]) - pd.to_datetime(call_data[\" DataDate\"])).dt.days / 365\n",
    "call_data.loc[:, \"ticker\"] = call_data[\"UnderlyingSymbol\"]\n",
    "call_data.loc[:, \"Mid\"] = (call_data[\"Bid\"]+call_data[\"Ask\"])/2\n",
    "print(f\"Quote dates: {call_data[' DataDate'].unique()}\")\n",
    "print(f\"Moneyness: min={call_data['moneyness'].min()}, max={call_data['moneyness'].max()}\")\n",
    "print(f\"Maturity: min={call_data['maturity'].min()}, max={call_data['maturity'].max()}\")"
   ]
  },
  {
   "cell_type": "code",
   "execution_count": 26,
   "id": "182a0b6c-d4d6-4283-84fb-7e2c313a4cd6",
   "metadata": {},
   "outputs": [],
   "source": [
    "# Drop the columns we don't need\n",
    "# Remove negative maturities and deep out of the money options\n",
    "model_input_data = call_data.loc[(call_data[\"maturity\"] > 0.0) & (call_data[\"moneyness\"] <= 2.5), [\"ticker\", \"moneyness\", \"maturity\", \"implied_vol\"]].copy() # we don't need other columns for this exercise"
   ]
  },
  {
   "cell_type": "code",
   "execution_count": 27,
   "id": "23ce281a-b906-487b-ad3e-052a2b30643f",
   "metadata": {},
   "outputs": [],
   "source": [
    "import QuantLib as ql\n",
    "import numpy as np\n",
    "\n",
    "# Create MSE function\n",
    "async def sabr_vol_mse(model_params, maturity, moneyness, implied_vol):\n",
    "    alpha, beta, nu, rho = model_params\n",
    "    val = np.array([ql.sabrVolatility(float(money), 1, float(mat), alpha, beta, nu, rho) for mat, money in zip(maturity, moneyness)]) - implied_vol\n",
    "    return np.sqrt(val * val).sum()\n"
   ]
  },
  {
   "cell_type": "code",
   "execution_count": 35,
   "id": "21d40760-374d-4318-b27e-96ee040ceff3",
   "metadata": {},
   "outputs": [
    {
     "name": "stdout",
     "output_type": "stream",
     "text": [
      "1194.0928888320923\n",
      "[]\n",
      "5685\n"
     ]
    }
   ],
   "source": [
    "import time\n",
    "from scipy.optimize import minimize\n",
    "\n",
    "alpha = 0.5; beta = 0.5; nu = 1.0; rho = 0.5\n",
    "start_values = [alpha, beta, nu, rho]\n",
    "bounds = [(0.0001, float('inf')), (0.0001, 1.0), (0.0001, float('inf')), (-0.9999, 0.9999)]\n",
    "\n",
    "model_params_by_ticker = {}\n",
    "error_tickers = []\n",
    "start = time.time()\n",
    "for ticker, ticker_data in model_input_data.groupby('ticker'):\n",
    "    res = minimize(sabr_vol_mse, start_values, bounds=bounds, args=(ticker_data['maturity'], ticker_data['moneyness'], ticker_data['implied_vol']), tol=1e-3, method=\"Powell\")\n",
    "    if res.success:\n",
    "        model_params_by_ticker[ticker] = res.x\n",
    "    else:\n",
    "        error_tickers.append(ticker)\n",
    "end = time.time()\n",
    "\n",
    "print(end-start)\n",
    "print(error_tickers)\n",
    "print(len(model_params_by_ticker))"
   ]
  },
  {
   "cell_type": "code",
   "execution_count": 47,
   "id": "d06aca35-f369-4aa9-891e-e357836098f7",
   "metadata": {},
   "outputs": [
    {
     "name": "stdout",
     "output_type": "stream",
     "text": [
      "         Alpha      Beta        Nu       Rho\n",
      "A     0.314901  0.651984  0.766485 -0.427394\n",
      "AA    0.617718  0.021392  0.474265  0.999899\n",
      "AADI  1.028776  0.373621  0.734218  0.999900\n"
     ]
    }
   ],
   "source": [
    "models = pd.DataFrame(model_params_by_ticker).T.rename(columns={0: 'Alpha', 1: 'Beta', 2: 'Nu', 3: 'Rho'})\n",
    "print(models.iloc[0:3])\n",
    "\n",
    "models.to_csv(os.path.join('/mnt/c/Users/Steve/implied_vol_machine_learning', 'model_parameters_by_ticker.csv'))"
   ]
  },
  {
   "cell_type": "code",
   "execution_count": null,
   "id": "4677f90c-8921-4857-9bfc-ec9571ba1b6f",
   "metadata": {},
   "outputs": [],
   "source": []
  }
 ],
 "metadata": {
  "kernelspec": {
   "display_name": "Python 3 (ipykernel)",
   "language": "python",
   "name": "python3"
  },
  "language_info": {
   "codemirror_mode": {
    "name": "ipython",
    "version": 3
   },
   "file_extension": ".py",
   "mimetype": "text/x-python",
   "name": "python",
   "nbconvert_exporter": "python",
   "pygments_lexer": "ipython3",
   "version": "3.8.10"
  }
 },
 "nbformat": 4,
 "nbformat_minor": 5
}
